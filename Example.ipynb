{
 "cells": [
  {
   "cell_type": "code",
   "execution_count": 44,
   "metadata": {},
   "outputs": [
    {
     "name": "stdout",
     "output_type": "stream",
     "text": [
      "<bound method NDFrame.head of             id  hip        hd  hr       gl   bf proper         ra        dec  \\\n",
      "0            0  NaN       NaN NaN      NaN  NaN    Sol   0.000000   0.000000   \n",
      "1            1  1.0  224700.0 NaN      NaN  NaN    NaN   0.000060   1.089009   \n",
      "2            2  2.0  224690.0 NaN      NaN  NaN    NaN   0.000283 -19.498840   \n",
      "3            3  3.0  224699.0 NaN      NaN  NaN    NaN   0.000335  38.859279   \n",
      "4            4  4.0  224707.0 NaN      NaN  NaN    NaN   0.000569 -51.893546   \n",
      "...        ...  ...       ...  ..      ...  ...    ...        ...        ...   \n",
      "119609  119611  NaN       NaN NaN  NN 4381  NaN    NaN  23.963895  38.629391   \n",
      "119610  119612  NaN       NaN NaN  NN 4385  NaN    NaN  23.996567  47.762093   \n",
      "119611  119613  NaN       NaN NaN  NN 4386  NaN    NaN  23.996218 -44.067905   \n",
      "119612  119614  NaN       NaN NaN  NN 4387  NaN    NaN  23.997386 -34.111986   \n",
      "119613  119615  NaN       NaN NaN   Gl 915  NaN    NaN   0.036059 -43.165974   \n",
      "\n",
      "            dist  ...  bayer  flam  con  comp  comp_primary base         lum  \\\n",
      "0         0.0000  ...    NaN   NaN  NaN     1             0  NaN    1.000000   \n",
      "1       219.7802  ...    NaN   NaN  Psc     1             1  NaN    9.638290   \n",
      "2        47.9616  ...    NaN   NaN  Cet     1             2  NaN    0.392283   \n",
      "3       442.4779  ...    NaN   NaN  And     1             3  NaN  386.901132   \n",
      "4       134.2282  ...    NaN   NaN  Phe     1             4  NaN    9.366989   \n",
      "...          ...  ...    ...   ...  ...   ...           ...  ...         ...   \n",
      "119609   16.9492  ...    NaN   NaN  NaN     1        119611  NaN    0.002200   \n",
      "119610   16.7224  ...    NaN   NaN  NaN     1        119612  NaN    0.000088   \n",
      "119611   18.5185  ...    NaN   NaN  NaN     1        119613  NaN    0.002224   \n",
      "119612   12.8205  ...    NaN   NaN  NaN     1        119614  NaN    0.001086   \n",
      "119613    7.8003  ...    NaN   NaN  NaN     1        119615  NaN    0.000319   \n",
      "\n",
      "        var  var_min  var_max  \n",
      "0       NaN      NaN      NaN  \n",
      "1       NaN      NaN      NaN  \n",
      "2       NaN      NaN      NaN  \n",
      "3       NaN      NaN      NaN  \n",
      "4       NaN      NaN      NaN  \n",
      "...     ...      ...      ...  \n",
      "119609  NaN      NaN      NaN  \n",
      "119610  NaN      NaN      NaN  \n",
      "119611  NaN      NaN      NaN  \n",
      "119612  NaN      NaN      NaN  \n",
      "119613  NaN      NaN      NaN  \n",
      "\n",
      "[119614 rows x 37 columns]>\n"
     ]
    }
   ],
   "source": [
    "import pandas as pd\n",
    "\n",
    "data = pd.read_csv (r'C:\\Users\\prav\\All_Projects\\Other\\Star_gazer\\hygdata_v3.csv\\hygdata_v3.csv')   \n",
    "df = pd.DataFrame(data)\n",
    "\n",
    "print (df.head)\n",
    "#Changes"
   ]
  },
  {
   "cell_type": "code",
   "execution_count": 45,
   "metadata": {},
   "outputs": [],
   "source": [
    "\n",
    "class Star:\n",
    "    def __init__(self,rowdata):\n",
    "        self.id=rowdata[0]\n",
    "        self.hip=rowdata[1]\n",
    "        self.hd=rowdata[2]\n",
    "        self.hr=rowdata[3]\n",
    "        self.gl=rowdata[4]\n",
    "        self.bf=rowdata[5]\n",
    "        self.proper=rowdata[6]\n",
    "        self.ra=rowdata[7]\n",
    "        self.dec=rowdata[8]\n",
    "        self.dist=rowdata[9]\n",
    "        self.pmra=rowdata[10]\n",
    "        self.pmdec=rowdata[11]\n",
    "        self.rv=rowdata[12]\n",
    "        self.mag=rowdata[13]\n",
    "        self.absmag=rowdata[14]\n",
    "        self.spect=rowdata[15]\n",
    "        self.ci=rowdata[16]\n",
    "        self.x=rowdata[17]\n",
    "        self.y=rowdata[18]\n",
    "        self.z=rowdata[19]\n",
    "        self.vx=rowdata[20]\n",
    "        self.vy=rowdata[21]\n",
    "        self.vz=rowdata[22]\n",
    "        self.rarad=rowdata[23]\n",
    "        self.decrad=rowdata[24]\n",
    "        self.pmrarad=rowdata[25]\n",
    "        self.pmdecrad=rowdata[26]\n",
    "        self.bayer=rowdata[27]\n",
    "        self.flam=rowdata[28]\n",
    "        self.con=rowdata[29]\n",
    "        self.comp=rowdata[30]\n",
    "        self.comp_primary=rowdata[31]\n",
    "        self.base=rowdata[32]\n",
    "        self.lum=rowdata[33]\n",
    "        self.var=rowdata[34]\n",
    "        self.var_min=rowdata[35]\n",
    "        self.var_max=rowdata[36]\n",
    "\n",
    "\n",
    "\n",
    "    def __repr__(self):\n",
    "        return str(self.id)\n",
    "    def showinfo(self):\n",
    "        return vars(self)\n",
    "        \n",
    "\n",
    "\n",
    "\n",
    "\n",
    "\n",
    "\n",
    "\n",
    "\n"
   ]
  },
  {
   "cell_type": "code",
   "execution_count": 46,
   "metadata": {},
   "outputs": [],
   "source": [
    "Mystars=[]\n",
    "for stella in range(len(df)):\n",
    "    Mystars.append(Star(df.iloc[stella]))\n",
    "\n",
    "\n"
   ]
  },
  {
   "cell_type": "code",
   "execution_count": 47,
   "metadata": {},
   "outputs": [
    {
     "name": "stdout",
     "output_type": "stream",
     "text": [
      "{'id': 300, 'hip': 301.0, 'hd': 225132.0, 'hr': 9098.0, 'gl': nan, 'bf': '2    Cet', 'proper': nan, 'ra': 0.06233, 'dec': -17.335988, 'dist': 83.4725, 'pmra': 28.57, 'pmdec': -7.28, 'rv': -5.0, 'mag': 4.55, 'absmag': -0.058, 'spect': 'B9IVn', 'ci': -0.047, 'x': 79.670013, 'y': 1.300177, 'z': -24.872663, 'vx': -5.95e-06, 'vy': 1.147e-05, 'vz': -1.29e-06, 'rarad': 0.0163180279735996, 'decrad': -0.3025700638263062, 'pmrarad': 1.385112685e-07, 'pmdecrad': -3.5294435e-08, 'bayer': nan, 'flam': 2.0, 'con': 'Cet', 'comp': 1, 'comp_primary': 300, 'base': nan, 'lum': 91.87556016660622, 'var': nan, 'var_min': nan, 'var_max': nan}\n"
     ]
    }
   ],
   "source": [
    "print (Mystars[300].showinfo())"
   ]
  },
  {
   "cell_type": "code",
   "execution_count": null,
   "metadata": {},
   "outputs": [],
   "source": []
  }
 ],
 "metadata": {
  "interpreter": {
   "hash": "2f21cce1673b2976d41b81316c0826eef0cd6bc4bc17f0731046c411932235c3"
  },
  "kernelspec": {
   "display_name": "Python 3.8.5 ('ML': venv)",
   "language": "python",
   "name": "python3"
  },
  "language_info": {
   "codemirror_mode": {
    "name": "ipython",
    "version": 3
   },
   "file_extension": ".py",
   "mimetype": "text/x-python",
   "name": "python",
   "nbconvert_exporter": "python",
   "pygments_lexer": "ipython3",
   "version": "3.8.5"
  },
  "orig_nbformat": 4
 },
 "nbformat": 4,
 "nbformat_minor": 2
}
