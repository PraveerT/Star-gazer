{
 "cells": [
  {
   "cell_type": "code",
   "execution_count": 5,
   "metadata": {},
   "outputs": [
    {
     "name": "stdout",
     "output_type": "stream",
     "text": [
      "[2, 3]\n"
     ]
    },
    {
     "data": {
      "text/plain": [
       "[{'id': 2,\n",
       "  'hip': 2.0,\n",
       "  'hd': 224690.0,\n",
       "  'hr': nan,\n",
       "  'gl': nan,\n",
       "  'bf': nan,\n",
       "  'proper': nan,\n",
       "  'ra': 0.000283,\n",
       "  'dec': -19.49884,\n",
       "  'dist': 47.9616,\n",
       "  'pmra': 181.21,\n",
       "  'pmdec': -0.93,\n",
       "  'rv': 0.0,\n",
       "  'mag': 9.27,\n",
       "  'absmag': 5.866,\n",
       "  'spect': 'K3V',\n",
       "  'ci': 0.999,\n",
       "  'x': 45.210918,\n",
       "  'y': 0.003365,\n",
       "  'z': -16.008996,\n",
       "  'vx': -7e-08,\n",
       "  'vy': 4.213e-05,\n",
       "  'vz': -2e-07,\n",
       "  'rarad': 7.39611451171e-05,\n",
       "  'decrad': -0.3403189524517112,\n",
       "  'pmrarad': 8.785308705e-07,\n",
       "  'pmdecrad': -4.508767e-09,\n",
       "  'bayer': nan,\n",
       "  'flam': nan,\n",
       "  'con': 'Cet',\n",
       "  'comp': 1,\n",
       "  'comp_primary': 2,\n",
       "  'base': nan,\n",
       "  'lum': 0.3922834625395205,\n",
       "  'var': nan,\n",
       "  'var_min': nan,\n",
       "  'var_max': nan},\n",
       " {'id': 3,\n",
       "  'hip': 3.0,\n",
       "  'hd': 224699.0,\n",
       "  'hr': nan,\n",
       "  'gl': nan,\n",
       "  'bf': nan,\n",
       "  'proper': nan,\n",
       "  'ra': 0.000335,\n",
       "  'dec': 38.859279,\n",
       "  'dist': 442.4779,\n",
       "  'pmra': 5.24,\n",
       "  'pmdec': -2.91,\n",
       "  'rv': 0.0,\n",
       "  'mag': 6.61,\n",
       "  'absmag': -1.619,\n",
       "  'spect': 'B9',\n",
       "  'ci': -0.019,\n",
       "  'x': 344.552785,\n",
       "  'y': 0.030213,\n",
       "  'z': 277.614965,\n",
       "  'vx': 3.92e-06,\n",
       "  'vy': 1.124e-05,\n",
       "  'vz': -4.86e-06,\n",
       "  'rarad': 8.76262870725e-05,\n",
       "  'decrad': 0.6782223625543176,\n",
       "  'pmrarad': 2.54042368e-08,\n",
       "  'pmdecrad': -1.4108078e-08,\n",
       "  'bayer': nan,\n",
       "  'flam': nan,\n",
       "  'con': 'And',\n",
       "  'comp': 1,\n",
       "  'comp_primary': 3,\n",
       "  'base': nan,\n",
       "  'lum': 386.9011316551087,\n",
       "  'var': nan,\n",
       "  'var_min': nan,\n",
       "  'var_max': nan}]"
      ]
     },
     "execution_count": 5,
     "metadata": {},
     "output_type": "execute_result"
    }
   ],
   "source": [
    "import star_gazer\n",
    "Stars=star_gazer.Group(r'C:\\Users\\prav\\All_Projects\\Other\\Star_gazer\\hygdata_v3.csv\\hygdata_v3.csv')   \n",
    "Stars.data([2,3])"
   ]
  },
  {
   "cell_type": "code",
   "execution_count": null,
   "metadata": {},
   "outputs": [],
   "source": []
  }
 ],
 "metadata": {
  "interpreter": {
   "hash": "2f21cce1673b2976d41b81316c0826eef0cd6bc4bc17f0731046c411932235c3"
  },
  "kernelspec": {
   "display_name": "Python 3.8.5 ('ML': venv)",
   "language": "python",
   "name": "python3"
  },
  "language_info": {
   "codemirror_mode": {
    "name": "ipython",
    "version": 3
   },
   "file_extension": ".py",
   "mimetype": "text/x-python",
   "name": "python",
   "nbconvert_exporter": "python",
   "pygments_lexer": "ipython3",
   "version": "3.8.5"
  },
  "orig_nbformat": 4
 },
 "nbformat": 4,
 "nbformat_minor": 2
}
