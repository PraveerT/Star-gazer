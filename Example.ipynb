{
 "cells": [
  {
   "cell_type": "code",
   "execution_count": 36,
   "metadata": {},
   "outputs": [
    {
     "data": {
      "text/plain": [
       "2"
      ]
     },
     "execution_count": 36,
     "metadata": {},
     "output_type": "execute_result"
    }
   ],
   "source": [
    "import star_gazer\n",
    "Stars=star_gazer.Group(r'C:\\Users\\prav\\All_Projects\\Other\\Star_gazer\\hygdata_v3.csv\\hygdata_v3.csv')   \n",
    "Stars.data([2,3,4])[0][\"id\"]\n"
   ]
  }
 ],
 "metadata": {
  "interpreter": {
   "hash": "2f21cce1673b2976d41b81316c0826eef0cd6bc4bc17f0731046c411932235c3"
  },
  "kernelspec": {
   "display_name": "Python 3.8.5 ('ML': venv)",
   "language": "python",
   "name": "python3"
  },
  "language_info": {
   "codemirror_mode": {
    "name": "ipython",
    "version": 3
   },
   "file_extension": ".py",
   "mimetype": "text/x-python",
   "name": "python",
   "nbconvert_exporter": "python",
   "pygments_lexer": "ipython3",
   "version": "3.8.5"
  },
  "orig_nbformat": 4
 },
 "nbformat": 4,
 "nbformat_minor": 2
}
